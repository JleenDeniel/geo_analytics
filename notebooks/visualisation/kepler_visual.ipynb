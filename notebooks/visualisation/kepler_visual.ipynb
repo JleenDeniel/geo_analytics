{
 "cells": [
  {
   "cell_type": "code",
   "execution_count": 6,
   "id": "f614436e-1a7c-4aab-860a-7329e3595f32",
   "metadata": {},
   "outputs": [],
   "source": [
    "!source activate alfa_geo_test_task"
   ]
  },
  {
   "cell_type": "code",
   "execution_count": 2,
   "id": "cc09bd70-9911-4575-b8f2-99c53a0f8a80",
   "metadata": {
    "scrolled": false
   },
   "outputs": [
    {
     "name": "stdout",
     "output_type": "stream",
     "text": [
      "Installing /Users/daniilzhilin/opt/anaconda3/lib/python3.9/site-packages/keplergl/static -> keplergl-jupyter\n",
      "Up to date: /Users/daniilzhilin/opt/anaconda3/share/jupyter/nbextensions/keplergl-jupyter/keplergl.html\n",
      "Up to date: /Users/daniilzhilin/opt/anaconda3/share/jupyter/nbextensions/keplergl-jupyter/index.js\n",
      "Up to date: /Users/daniilzhilin/opt/anaconda3/share/jupyter/nbextensions/keplergl-jupyter/extension.js.map\n",
      "Up to date: /Users/daniilzhilin/opt/anaconda3/share/jupyter/nbextensions/keplergl-jupyter/main.js\n",
      "Up to date: /Users/daniilzhilin/opt/anaconda3/share/jupyter/nbextensions/keplergl-jupyter/index.js.map\n",
      "Up to date: /Users/daniilzhilin/opt/anaconda3/share/jupyter/nbextensions/keplergl-jupyter/extension.js\n",
      "- Validating: \u001b[32mOK\u001b[0m\n",
      "\n",
      "    To initialize this nbextension in the browser every time the notebook (or other app) loads:\n",
      "    \n",
      "          jupyter nbextension enable keplergl --py --sys-prefix\n",
      "    \n",
      "Enabling notebook extension keplergl-jupyter/extension...\n",
      "      - Validating: \u001b[32mOK\u001b[0m\n"
     ]
    }
   ],
   "source": [
    "!jupyter nbextension install --py --sys-prefix keplergl # can be skipped for notebook 5.3 and above\n",
    "!jupyter nbextension enable --py --sys-prefix keplergl # can be skipped for notebook 5.3 and above"
   ]
  },
  {
   "cell_type": "code",
   "execution_count": 1,
   "id": "58dfcbc1-a17d-4fbb-9741-f7e2c2ef10fe",
   "metadata": {
    "scrolled": true
   },
   "outputs": [
    {
     "name": "stdout",
     "output_type": "stream",
     "text": [
      "usage: jupyter [-h] [--version] [--config-dir] [--data-dir] [--runtime-dir]\r\n",
      "               [--paths] [--json] [--debug]\r\n",
      "               [subcommand]\r\n",
      "\r\n",
      "Jupyter: Interactive Computing\r\n",
      "\r\n",
      "positional arguments:\r\n",
      "  subcommand     the subcommand to launch\r\n",
      "\r\n",
      "optional arguments:\r\n",
      "  -h, --help     show this help message and exit\r\n",
      "  --version      show the versions of core jupyter packages and exit\r\n",
      "  --config-dir   show Jupyter config dir\r\n",
      "  --data-dir     show Jupyter data dir\r\n",
      "  --runtime-dir  show Jupyter runtime dir\r\n",
      "  --paths        show all Jupyter paths. Add --json for machine-readable\r\n",
      "                 format.\r\n",
      "  --json         output paths as machine-readable json\r\n",
      "  --debug        output debug information about paths\r\n",
      "\r\n",
      "Available subcommands: bundlerextension console dejavu execute kernel\r\n",
      "kernelspec migrate nbconvert nbextension notebook qtconsole run\r\n",
      "serverextension troubleshoot trust\r\n",
      "\r\n",
      "Jupyter command `jupyter-labextension` not found.\r\n"
     ]
    }
   ],
   "source": [
    "!jupyter labextension install @jupyter-widgets/jupyterlab-manager keplergl-jupyter"
   ]
  },
  {
   "cell_type": "code",
   "execution_count": 2,
   "id": "5a2c5060-0b40-441b-887f-317f9573f0d3",
   "metadata": {},
   "outputs": [],
   "source": [
    "import pandas as pd\n",
    "from keplergl import KeplerGl"
   ]
  },
  {
   "cell_type": "code",
   "execution_count": 3,
   "id": "86849b8b-a325-4b65-967c-e20d9c19c53e",
   "metadata": {},
   "outputs": [],
   "source": [
    "data = pd.read_csv('../../output_data/catboost_results.csv')"
   ]
  },
  {
   "cell_type": "code",
   "execution_count": 5,
   "id": "2f208b76-b319-4662-9172-7ea2f9675527",
   "metadata": {},
   "outputs": [
    {
     "name": "stdout",
     "output_type": "stream",
     "text": [
      "User Guide: https://docs.kepler.gl/docs/keplergl-jupyter\n"
     ]
    },
    {
     "data": {
      "application/vnd.jupyter.widget-view+json": {
       "model_id": "c0d9891bb6444d20b934a98414672b56",
       "version_major": 2,
       "version_minor": 0
      },
      "text/plain": [
       "KeplerGl(data={'pred': {'index': [0, 1, 2, 3, 4, 5, 6, 7, 8, 9, 10, 11, 12, 13, 14, 15, 16, 17, 18, 19, 20, 21…"
      ]
     },
     "metadata": {},
     "output_type": "display_data"
    }
   ],
   "source": [
    "map_1 = KeplerGl()\n",
    "map_1.add_data(data=data, name='pred')\n",
    "map_1"
   ]
  },
  {
   "cell_type": "markdown",
   "id": "d739da67-2447-4cc0-ae67-4f82785e4ee4",
   "metadata": {},
   "source": [
    "Не получается никак завести nodejs в юпитерлаб, хотя я даже в нужный env все установил\n",
    "Можно нарисовать и в gmplot но он не умеет рисовать с помощью h3 индексов, поэтому я просто в файлы добавил html с визуазизацией"
   ]
  },
  {
   "cell_type": "code",
   "execution_count": null,
   "id": "690206d1-8314-40de-8cb5-0786079de143",
   "metadata": {},
   "outputs": [],
   "source": []
  }
 ],
 "metadata": {
  "kernelspec": {
   "display_name": "Python 3 (ipykernel)",
   "language": "python",
   "name": "python3"
  },
  "language_info": {
   "codemirror_mode": {
    "name": "ipython",
    "version": 3
   },
   "file_extension": ".py",
   "mimetype": "text/x-python",
   "name": "python",
   "nbconvert_exporter": "python",
   "pygments_lexer": "ipython3",
   "version": "3.9.7"
  }
 },
 "nbformat": 4,
 "nbformat_minor": 5
}
